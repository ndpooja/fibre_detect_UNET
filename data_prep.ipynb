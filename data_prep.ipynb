{
 "cells": [
  {
   "cell_type": "code",
   "execution_count": null,
   "metadata": {},
   "outputs": [],
   "source": [
    "from PIL import Image\n",
    "import numpy as np\n",
    "import os\n",
    "import matplotlib.pyplot as plt\n",
    "\n",
    "\n",
    "from scipy.ndimage import label, center_of_mass\n",
    "from skimage.draw import disk\n",
    "from skimage.transform import radon, iradon, resize\n",
    "import cv2\n",
    "import imageio.v2 as iio\n",
    "from skimage import util\n",
    "import annotator\n",
    "import h5py\n",
    "\n",
    "%matplotlib widget"
   ]
  },
  {
   "cell_type": "code",
   "execution_count": null,
   "metadata": {},
   "outputs": [],
   "source": [
    "def read_h5_file(file_path):\n",
    "    with h5py.File(file_path, 'r') as f:\n",
    "        # print(\"Keys: %s\" % f.keys())\n",
    "        data = f['data'][:]\n",
    "    return data\n",
    "\n",
    "def create_noisy_image(image, num_projection=1000, rotation = 360, undersample_factor=4, noise_level=2):\n",
    "    image = image.astype(float)\n",
    "    image = (image - np.min(image)) / (np.max(image) - np.min(image))\n",
    "    theta = np.linspace(0., rotation, int(num_projection/undersample_factor), endpoint=False)\n",
    "    sinogram = radon(image, theta=theta)\n",
    "    sinogram += noise_level * np.random.normal(size=sinogram.shape)\n",
    "    reconstruction_fbp = iradon(sinogram, theta=theta)\n",
    "    error = reconstruction_fbp - image\n",
    "    print(f'FBP rms reconstruction error: {np.sqrt(np.mean(error**2)):.3g}')\n",
    "    return reconstruction_fbp, error, sinogram\n",
    "\n",
    "def plot_sinogram_recon(sinogram, reconstruction_fbp, error, num_projection, undersample_factor, rotation):\n",
    "    dx, dy = 0.5 * rotation / int(num_projection/undersample_factor), 0.5 / sinogram.shape[0]\n",
    "    fig, ax = plt.subplots(1, 1, figsize=(10, 5))\n",
    "    ax.set_title(\"Radon transform\\n(Sinogram)\")\n",
    "    ax.set_xlabel(\"Projection angle (deg)\")\n",
    "    ax.set_ylabel(\"Projection position (pixels)\")\n",
    "    ax.imshow(sinogram, cmap=plt.cm.Greys_r,\n",
    "            extent=(-dx, rotation + dx, -dy, sinogram.shape[0] + dy),\n",
    "            aspect='auto')\n",
    "    fig.tight_layout()\n",
    "    plt.show()\n",
    "\n",
    "    fig, (ax1, ax2) = plt.subplots(1, 2, figsize=(10, 5),\n",
    "                                sharex=True, sharey=True)\n",
    "    ax1.set_title(\"Reconstruction\\nFiltered back projection\")\n",
    "    ax1.imshow(reconstruction_fbp, cmap=plt.cm.Greys_r)\n",
    "    ax2.set_title(\"Reconstruction error\\nFiltered back projection\")\n",
    "    ax2.imshow(error, cmap=plt.cm.Greys_r)\n",
    "    plt.show()\n",
    "\n",
    "def make_circular_image(image):\n",
    "    center_x = image.shape[1] // 2\n",
    "    center_y = image.shape[0] // 2\n",
    "    radius = min(image.shape) // 2\n",
    "    circle_image = np.copy(image)\n",
    "    cv2.circle(circle_image, (center_x, center_y), radius, (0, 0, 255), 2)\n",
    "    mask = np.zeros_like(image)\n",
    "    cv2.circle(mask, (center_x, center_y), radius, (255, 255, 255), -1)\n",
    "    circle_image[mask == 0] = 0\n",
    "    return circle_image\n",
    "\n",
    "def save_mask(file_path, new_file_name):\n",
    "    mask = np.array(Image.open(file_path))[:,:,0]/255\n",
    "    mask = util.invert(mask)\n",
    "    save_mask = (mask * 255).astype(np.uint8)\n",
    "    iio.imwrite(new_file_name, save_mask)\n",
    "\n",
    "def normalize_uint8(image):\n",
    "    image = (image - np.min(image)) / (np.max(image) - np.min(image))\n",
    "    return (image * 255).astype(np.uint8)\n",
    "\n",
    "def create_mask_with_centroids(mask, radius=3):\n",
    "    # New curated mask with radius 3 around the centroids of the mask\n",
    "    labeled_mask, num_features = label(mask)\n",
    "    centroids = center_of_mass(mask, labeled_mask, range(1, num_features+1))\n",
    "    print(f'true_centroids: {len(centroids)}')\n",
    "    new_mask = np.zeros_like(mask)\n",
    "    for y, x in centroids:\n",
    "        rr, cc = disk((y, x), radius)\n",
    "        new_mask[rr, cc] = 1\n",
    "    return new_mask"
   ]
  },
  {
   "cell_type": "markdown",
   "metadata": {},
   "source": [
    "### Mock data preparation"
   ]
  },
  {
   "cell_type": "markdown",
   "metadata": {},
   "source": [
    "#### Mask preparation"
   ]
  },
  {
   "cell_type": "code",
   "execution_count": null,
   "metadata": {},
   "outputs": [],
   "source": [
    "# Save mock and UD slice 500 in uint8 tiff file format\n",
    "\n",
    "im = np.array(Image.open('final_data/ScanRef_Glass_Mock_UD/im_Mock500.tiff'))\n",
    "# im = make_circular_image(im) # Make the image square (988x988) - original size (988x1013)\n",
    "# iio.imwrite('final_data/ScanRef_Glass_Mock_UD/im_Mock500.tiff', im) # save the reference image\n",
    "\n",
    "# convert to 8 bit and annotate it if mask is not available\n",
    "im = (im - np.min(im)) / (np.max(im) - np.min(im)) * 255\n",
    "im_uint8 = im.astype(np.uint8)\n",
    "# annotator.annotate(im_uint8, 'Mock500_mask.png')"
   ]
  },
  {
   "cell_type": "code",
   "execution_count": null,
   "metadata": {},
   "outputs": [],
   "source": [
    "# save mask in binary format\n",
    "file_name = 'Mock500_mask.png'\n",
    "file_path = os.path.join('final_data/ScanRef_Glass_Mock_UD/', file_name)\n",
    "new_file_name = 'mask_Mock500.png'\n",
    "# save_mask(file_path, new_file_name)"
   ]
  },
  {
   "cell_type": "markdown",
   "metadata": {},
   "source": [
    "#### noisy data"
   ]
  },
  {
   "cell_type": "code",
   "execution_count": null,
   "metadata": {},
   "outputs": [],
   "source": [
    "mask = np.array(Image.open('final_data/ScanRef_Glass_Mock_UD/mask_Mock500.png'))\n",
    "saving_folder = 'final_data/ScanRef_Glass_Mock_UD/'\n",
    "new_mask_name = 'curatedmask_Mock500.png'\n",
    "\n",
    "\n",
    "# create new curated mask with centroids\n",
    "# new_mask = create_mask_with_centroids(mask, radius=3)\n",
    "# plt.figure()\n",
    "# plt.imshow(new_mask, cmap='gray')\n",
    "# plt.imsave(os.path.join(saving_folder, new_mask_name), new_mask, cmap='gray')\n",
    "\n",
    "undersample_factor = [8, 12]\n",
    "noise_level = [4, 8, 12, 16, 20, 24]\n",
    "proj = 4501\n",
    "rot = 360\n",
    "\n",
    "for i in range(len(undersample_factor)):\n",
    "    for j in range(len(noise_level)):\n",
    "        print(f'undersample_factor: {undersample_factor[i]}, noise_level: {noise_level[j]}')\n",
    "        reconstruction_fbp, error, sinogram = create_noisy_image(im, num_projection=proj, rotation = rot, undersample_factor=undersample_factor[i], noise_level=noise_level[j])\n",
    "        plot_sinogram_recon(sinogram, reconstruction_fbp, error, num_projection=proj, undersample_factor=undersample_factor[i], rotation=rot)\n",
    "        file_name = f'im_Mock500noisy_uf{undersample_factor[i]}_n{noise_level[j]}.tiff'\n",
    "        reconstruction_fbp = normalize_uint8(reconstruction_fbp)\n",
    "        # iio.imwrite(os.path.join(saving_folder, str(file_name)), reconstruction_fbp)"
   ]
  },
  {
   "cell_type": "markdown",
   "metadata": {},
   "source": [
    "### T700 data preparation"
   ]
  },
  {
   "cell_type": "markdown",
   "metadata": {},
   "source": [
    "#### Mask preparation"
   ]
  },
  {
   "cell_type": "code",
   "execution_count": null,
   "metadata": {},
   "outputs": [],
   "source": [
    "data_name = ['T700-T-02_pco_0p4um.h5', 'T700-T-08_pco_0p4um.h5', 'T700-T-21_GF_0p8um_1ms_1.h5', \n",
    "             'T700-T-21_GF_0p8um_1ms_2.h5', 'T700-T-21_GF_0p8um_1ms_3.h5', 'T700-T-21_GF_1p6um_0p5ms_1.h5',\n",
    "             'T700-T-21_GF_1p6um_0p5ms_2.h5', 'T700-T-21_GF_1p6um_3ms_1.h5', 'T700-T-21_GF_1p6um_3ms_2.h5',\n",
    "             'T700-T-21_GF_1p6um_3ms_3.h5', 'T700-T-21_GF_1p6um_3ms_4.h5', 'T700-T-21_GF_1p6um_3ms_5.h5',\n",
    "             'T700-T-21_pco_0p4um_reference.h5', 'T700-T-26_pco_0p4um.h5']\n",
    "data = read_h5_file('../Data_CF/' + data_name[12])\n",
    "# data = read_h5_file('../Data_CF/' + 'T700-T-21_pco_0p4um_reference.h5')\n",
    "im1 = np.array(data)\n",
    "im = np.array(data[int(len(data)//4),  500:1100, 42:]) # 361 slice of the data [600x600] square image of reference data\n",
    "im = im.max() - im # actual data is inverted\n",
    "im = (im - np.min(im)) / (np.max(im) - np.min(im)) * 255\n",
    "im = im.astype(np.uint8)\n",
    "print(f'slice number: {int(len(data)//4)}')"
   ]
  },
  {
   "cell_type": "code",
   "execution_count": null,
   "metadata": {},
   "outputs": [],
   "source": [
    "im = make_circular_image(im) # make the image circular to use fbp reconstruction with various noise level effectivly\n",
    "print(im.max())\n",
    "plt.figure()\n",
    "plt.imshow(im, cmap='gray')\n",
    "plt.title(data_name[12])\n",
    "plt.show()"
   ]
  },
  {
   "cell_type": "code",
   "execution_count": null,
   "metadata": {},
   "outputs": [],
   "source": [
    "# iio.imwrite('T700_ref_361.tiff', im) # save the reference image"
   ]
  },
  {
   "cell_type": "code",
   "execution_count": null,
   "metadata": {},
   "outputs": [],
   "source": [
    "# convert to 8 bit and annotate it if mask is not available\n",
    "im = (im - np.min(im)) / (np.max(im) - np.min(im)) * 255\n",
    "im_uint8 = im.astype(np.uint8)\n",
    "# annotator.annotate(im_uint8, 'T700_ref_mask_361.png')"
   ]
  },
  {
   "cell_type": "code",
   "execution_count": null,
   "metadata": {},
   "outputs": [],
   "source": [
    "# save mask\n",
    "file_name = 'T700_ref_mask_361.png'\n",
    "file_path = os.path.join(os.getcwd(), file_name)\n",
    "new_file_name = 'mask_T700_ref_361.png'\n",
    "# save_mask(file_path, new_file_name)"
   ]
  },
  {
   "cell_type": "markdown",
   "metadata": {},
   "source": [
    "#### noisy data preparation"
   ]
  },
  {
   "cell_type": "code",
   "execution_count": null,
   "metadata": {},
   "outputs": [],
   "source": [
    "im = np.array(Image.open('final_data/T700/im_T700ref361.tiff'))\n",
    "mask = np.array(Image.open('final_data/T700/mask_T700ref361.png'))\n",
    "saving_folder = 'final_data/T700/'\n",
    "new_mask_name = 'curatedmask_T700ref361.png'\n",
    "\n",
    "# create mask with centroids\n",
    "# new_mask = create_mask_with_centroids(mask, radius=3)\n",
    "# plt.figure()\n",
    "# plt.imshow(new_mask, cmap='gray')\n",
    "# plt.imsave(os.path.join(saving_folder, new_mask_name), new_mask, cmap='gray')\n",
    "\n",
    "undersample_factor = [8, 12]\n",
    "noise_level = [2, 3, 4, 5, 6, 7]\n",
    "proj = 2000\n",
    "rot = 180\n",
    "\n",
    "for i in range(len(undersample_factor)):\n",
    "    for j in range(len(noise_level)):\n",
    "        print(f'undersample_factor: {undersample_factor[i]}, noise_level: {noise_level[j]}')\n",
    "        reconstruction_fbp, error, sinogram = create_noisy_image(im, num_projection=proj, rotation = rot, undersample_factor=undersample_factor[i], noise_level=noise_level[j])\n",
    "        plot_sinogram_recon(sinogram, reconstruction_fbp, error, num_projection=proj, undersample_factor=undersample_factor[i], rotation=rot)\n",
    "        file_name = f'im_T700ref361noisy_uf{undersample_factor[i]}_n{noise_level[j]}.tiff'\n",
    "        reconstruction_fbp = normalize_uint8(reconstruction_fbp)\n",
    "        # iio.imwrite(os.path.join(saving_folder, str(file_name)), reconstruction_fbp)"
   ]
  }
 ],
 "metadata": {
  "kernelspec": {
   "display_name": "fiber_env",
   "language": "python",
   "name": "python3"
  },
  "language_info": {
   "codemirror_mode": {
    "name": "ipython",
    "version": 3
   },
   "file_extension": ".py",
   "mimetype": "text/x-python",
   "name": "python",
   "nbconvert_exporter": "python",
   "pygments_lexer": "ipython3",
   "version": "3.10.13"
  }
 },
 "nbformat": 4,
 "nbformat_minor": 2
}
